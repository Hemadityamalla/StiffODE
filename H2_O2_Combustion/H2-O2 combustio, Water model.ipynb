{
 "cells": [
  {
   "cell_type": "code",
   "execution_count": 1,
   "metadata": {
    "collapsed": true
   },
   "outputs": [],
   "source": [
    "from sympy import symbols, diff, Matrix, init_printing\n",
    "init_printing()"
   ]
  },
  {
   "cell_type": "code",
   "execution_count": 2,
   "metadata": {
    "collapsed": true
   },
   "outputs": [],
   "source": [
    "ko,ki = symbols(\"k0,k\\infty\")\n",
    "kf1,kr1 = symbols(\"k_{f_1}, k_{r_1}\")\n",
    "kf2,kr2 = symbols(\"k_{f_2}, k_{r_2}\")\n",
    "kf3,kr3 = symbols(\"k_{f_3}, k_{r_3}\")\n",
    "\"\"\"ko4,ki4 = symbols(\"k_{0_4}, k_{\\infty_4}\")\n",
    "kf5,kr5 = symbols(\"k_{f_5}, k_{r_5}\")\n",
    "kf6,kr6 = symbols(\"k_{f_6}, k_{r_6}\")\n",
    "kf7,kr7 = symbols(\"k_{f_7}, k_{r_7}\")\n",
    "kf8,kr8 = symbols(\"k_{f_8}, k_{r_8}\")\n",
    "kf9,kr9 = symbols(\"k_{f_9}, k_{r_9}\")\n",
    "kf10,kr10 = symbols(\"k_{f_{10}}, k_{r_{10}}\")\n",
    "kf11,kr11 = symbols(\"k_{f_{11}}, k_{r_{11}}\")\n",
    "ko12,ki12 = symbols(\"k_{0_{12}}, k_{\\infty_{12}}\")\"\"\"\n",
    "\n",
    "\n",
    "y1, y2, y3, y4, y5, y6 = symbols(\"y_1,y_2,y_3,y_4,y_5,y_6\")"
   ]
  },
  {
   "cell_type": "code",
   "execution_count": 3,
   "metadata": {
    "collapsed": true
   },
   "outputs": [],
   "source": [
    "r1 = kf1*y1*y2 - kr1*y4*y5\n",
    "r2 = kf2*y4*y3 - kr2*y2*y5\n",
    "r3 = kf3*y1*y5 - kr3*y6*y4"
   ]
  },
  {
   "cell_type": "code",
   "execution_count": 4,
   "metadata": {
    "collapsed": true
   },
   "outputs": [],
   "source": [
    "f1 = -r1 - r3\n",
    "f2 = -r1 + r2\n",
    "f3 = -r2\n",
    "f4 = r1 - r2 + r3\n",
    "f5 = r1 + r2 - r3\n",
    "f6 = r3"
   ]
  },
  {
   "cell_type": "code",
   "execution_count": 7,
   "metadata": {
    "collapsed": true
   },
   "outputs": [],
   "source": [
    "F = Matrix([f1,f2,f3,f4,f5,f6])\n",
    "y = Matrix([y1, y2, y3, y4, y5, y6])"
   ]
  },
  {
   "cell_type": "code",
   "execution_count": 8,
   "metadata": {},
   "outputs": [
    {
     "data": {
      "image/png": "[encoded data removed]",
      "text/latex": [
       "$$\\left[\\begin{matrix}- k_{f_1} y_{2} - k_{f_3} y_{5} & - k_{f_1} y_{1} & 0 & k_{r_1} y_{5} + k_{r_3} y_{6} & - k_{f_3} y_{1} + k_{r_1} y_{4} & k_{r_3} y_{4}\\\\- k_{f_1} y_{2} & - k_{f_1} y_{1} - k_{r_2} y_{5} & k_{f_2} y_{4} & k_{f_2} y_{3} + k_{r_1} y_{5} & k_{r_1} y_{4} - k_{r_2} y_{2} & 0\\\\0 & k_{r_2} y_{5} & - k_{f_2} y_{4} & - k_{f_2} y_{3} & k_{r_2} y_{2} & 0\\\\k_{f_1} y_{2} + k_{f_3} y_{5} & k_{f_1} y_{1} + k_{r_2} y_{5} & - k_{f_2} y_{4} & - k_{f_2} y_{3} - k_{r_1} y_{5} - k_{r_3} y_{6} & k_{f_3} y_{1} - k_{r_1} y_{4} + k_{r_2} y_{2} & - k_{r_3} y_{4}\\\\k_{f_1} y_{2} - k_{f_3} y_{5} & k_{f_1} y_{1} - k_{r_2} y_{5} & k_{f_2} y_{4} & k_{f_2} y_{3} - k_{r_1} y_{5} + k_{r_3} y_{6} & - k_{f_3} y_{1} - k_{r_1} y_{4} - k_{r_2} y_{2} & k_{r_3} y_{4}\\\\k_{f_3} y_{5} & 0 & 0 & - k_{r_3} y_{6} & k_{f_3} y_{1} & - k_{r_3} y_{4}\\end{matrix}\\right]$$"
      ],
      "text/plain": [
       "⎡-k_{f_1}⋅y₂ - k_{f_3}⋅y₅        -k_{f_1}⋅y₁              0              k_{r_\n",
       "⎢                                                                             \n",
       "⎢      -k_{f_1}⋅y₂         -k_{f_1}⋅y₁ - k_{r_2}⋅y₅  k_{f_2}⋅y₄          k_{f_\n",
       "⎢                                                                             \n",
       "⎢           0                     k_{r_2}⋅y₅         -k_{f_2}⋅y₄              \n",
       "⎢                                                                             \n",
       "⎢k_{f_1}⋅y₂ + k_{f_3}⋅y₅   k_{f_1}⋅y₁ + k_{r_2}⋅y₅   -k_{f_2}⋅y₄  -k_{f_2}⋅y₃ \n",
       "⎢                                                                             \n",
       "⎢k_{f_1}⋅y₂ - k_{f_3}⋅y₅   k_{f_1}⋅y₁ - k_{r_2}⋅y₅   k_{f_2}⋅y₄   k_{f_2}⋅y₃ -\n",
       "⎢                                                                             \n",
       "⎣       k_{f_3}⋅y₅                    0                   0                   \n",
       "\n",
       "1}⋅y₅ + k_{r_3}⋅y₆               -k_{f_3}⋅y₁ + k_{r_1}⋅y₄         k_{r_3}⋅y₄ ⎤\n",
       "                                                                             ⎥\n",
       "2}⋅y₃ + k_{r_1}⋅y₅                k_{r_1}⋅y₄ - k_{r_2}⋅y₂              0     ⎥\n",
       "                                                                             ⎥\n",
       " -k_{f_2}⋅y₃                            k_{r_2}⋅y₂                     0     ⎥\n",
       "                                                                             ⎥\n",
       "- k_{r_1}⋅y₅ - k_{r_3}⋅y₆  k_{f_3}⋅y₁ - k_{r_1}⋅y₄ + k_{r_2}⋅y₂   -k_{r_3}⋅y₄⎥\n",
       "                                                                             ⎥\n",
       " k_{r_1}⋅y₅ + k_{r_3}⋅y₆   -k_{f_3}⋅y₁ - k_{r_1}⋅y₄ - k_{r_2}⋅y₂  k_{r_3}⋅y₄ ⎥\n",
       "                                                                             ⎥\n",
       " -k_{r_3}⋅y₆                            k_{f_3}⋅y₁                -k_{r_3}⋅y₄⎦"
      ]
     },
     "execution_count": 8,
     "metadata": {},
     "output_type": "execute_result"
    }
   ],
   "source": [
    "F.jacobian(y)"
   ]
  },
  {
   "cell_type": "code",
   "execution_count": null,
   "metadata": {
    "collapsed": true
   },
   "outputs": [],
   "source": []
  }
 ],
 "metadata": {
  "kernelspec": {
   "display_name": "Python 3",
   "language": "python",
   "name": "python3"
  },
  "language_info": {
   "codemirror_mode": {
    "name": "ipython",
    "version": 3
   },
   "file_extension": ".py",
   "mimetype": "text/x-python",
   "name": "python",
   "nbconvert_exporter": "python",
   "pygments_lexer": "ipython3",
   "version": "3.6.1"
  }
 },
 "nbformat": 4,
 "nbformat_minor": 2
}
